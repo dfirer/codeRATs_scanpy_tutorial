{
 "cells": [
  {
   "cell_type": "markdown",
   "id": "85e581c2-48a6-4fae-8586-f5332d07e817",
   "metadata": {},
   "source": [
    "# Scanpy Tutorial\n",
    "BroadRATs Talk: 6/8/2022  \n",
    "Written and given by Danielle Firer\n",
    "\n",
    "Tutorial based off of the Scanpy tutorial: Preprocessing and clustering 3k PBMCs\n",
    "https://scanpy-tutorials.readthedocs.io/en/latest/pbmc3k.html\n",
    "with some variation"
   ]
  },
  {
   "cell_type": "code",
   "execution_count": null,
   "id": "d6d16b11-a31c-4a51-a418-23a9de919b49",
   "metadata": {},
   "outputs": [],
   "source": [
    "#### command line code to download the data and unpack it ####\n",
    "mkdir data\n",
    "wget http://cf.10xgenomics.com/samples/cell-exp/1.1.0/pbmc3k/pbmc3k_filtered_gene_bc_matrices.tar.gz -O data/pbmc3k_filtered_gene_bc_matrices.tar.gz\n",
    "cd data; tar -xzf pbmc3k_filtered_gene_bc_matrices.tar.gz\n",
    "mkdir write"
   ]
  },
  {
   "cell_type": "code",
   "execution_count": null,
   "id": "232d3c20-9284-486f-989f-ab90455b67fe",
   "metadata": {},
   "outputs": [],
   "source": [
    "#begin by importing necessary packages\n",
    "import matplotlib.pyplot as plt\n",
    "import numpy as np\n",
    "import pandas as pd\n",
    "import seaborn as sns\n",
    "import scanpy as sc"
   ]
  },
  {
   "cell_type": "code",
   "execution_count": null,
   "id": "8a8c3cb6-ca3d-4ebe-b2d7-b08efb13cb5f",
   "metadata": {},
   "outputs": [],
   "source": [
    "sc.settings.verbosity = 3             # verbosity: errors (0), warnings (1), info (2), hints (3)\n",
    "sc.settings.set_figure_params(dpi=80, figsize= (4,4), facecolor='white', fontsize=19)"
   ]
  },
  {
   "cell_type": "code",
   "execution_count": null,
   "id": "c637e9d5-63e6-456e-b41e-59602705532d",
   "metadata": {},
   "outputs": [],
   "source": [
    "adata = sc.read_10x_mtx('/mnt/disk2/filtered_gene_bc_matrices/hg19', var_names='gene_symbols', cache=True)"
   ]
  },
  {
   "cell_type": "code",
   "execution_count": null,
   "id": "e03a3c7c-fb08-4eca-938c-86cfbd79d9d6",
   "metadata": {},
   "outputs": [],
   "source": [
    "print(adata)\n",
    "print('\\nadata.var')\n",
    "display(adata.var)\n",
    "print('\\nadata.obs')\n",
    "display(adata.obs)\n",
    "print('\\nadata.X')\n",
    "display(adata.X)"
   ]
  },
  {
   "cell_type": "markdown",
   "id": "453731cb-1f36-4b94-8552-6711288c26c7",
   "metadata": {},
   "source": [
    "## Preprocessing"
   ]
  },
  {
   "cell_type": "markdown",
   "id": "283960b2-008a-4c13-9db6-aa88ca10f2f9",
   "metadata": {},
   "source": [
    "### Annotate whether genes are mitochondrial and calculate QC metrics for cells"
   ]
  },
  {
   "cell_type": "code",
   "execution_count": null,
   "id": "e282a7b2-ac5e-4473-9617-2877bef2b38f",
   "metadata": {},
   "outputs": [],
   "source": [
    "adata.var['mt'] = adata.var_names.str.startswith('MT-')  # annotate the group of mitochondrial genes as 'mt'\n",
    "sc.pp.calculate_qc_metrics(adata, qc_vars=['mt'], percent_top=None, log1p=False, inplace=True)\n",
    "adata.obs"
   ]
  },
  {
   "cell_type": "code",
   "execution_count": null,
   "id": "7fbbfe2f-3a94-4fe1-81c6-e5db17578536",
   "metadata": {},
   "outputs": [],
   "source": [
    "plt.scatter(adata.obs.total_counts, adata.obs.n_genes_by_counts, cmap='viridis' ,c=adata.obs['pct_counts_mt'],s=1)\n",
    "plt.ylabel('n_genes')\n",
    "plt.xlabel('total_counts')\n",
    "plt.colorbar()"
   ]
  },
  {
   "cell_type": "markdown",
   "id": "5b5ca0bc-8265-4bde-b9e1-e5cd03a57f5a",
   "metadata": {},
   "source": [
    "10X is only showing us their perfect datasets... \n",
    "More realistic plot of # counts vs # genes\n",
    "![example_counts_vs_genes](example_counts_vs_genes.png)\n"
   ]
  },
  {
   "cell_type": "markdown",
   "id": "a506b502-1be8-40f4-a6e6-608511e18526",
   "metadata": {},
   "source": [
    "A violin plot of some of the computed quality measures:\n",
    "\n",
    "* the number of genes expressed in the count matrix\n",
    "* the total counts per cell\n",
    "* the percentage of counts in mitochondrial genes"
   ]
  },
  {
   "cell_type": "code",
   "execution_count": null,
   "id": "ea5ed05b-58c3-48a2-9a05-b1b1dcaeeff4",
   "metadata": {},
   "outputs": [],
   "source": [
    "sc.pl.violin(adata, ['n_genes_by_counts', 'total_counts', 'pct_counts_mt'],\n",
    "             jitter=0.4, multi_panel=True)"
   ]
  },
  {
   "cell_type": "markdown",
   "id": "dfb0016b-0942-4559-a3fb-d35e5f31d509",
   "metadata": {},
   "source": [
    "Incorporating scanpy plots into subplots"
   ]
  },
  {
   "cell_type": "code",
   "execution_count": null,
   "id": "4f24e33f-c4c3-432b-8c89-f4dff90794d4",
   "metadata": {},
   "outputs": [],
   "source": [
    "fig, axes = plt.subplots(1,4,figsize=(16,4))\n",
    "t1 = sc.pl.violin(adata, 'total_counts', groupby=None, cut=0, ax=axes[0], show=False) #log=True,\n",
    "t2 = sc.pl.violin(adata, 'pct_counts_mt', groupby=None, ax=axes[1], show=False)\n",
    "sns.distplot(adata.obs['total_counts'], kde=False, bins=200, ax=axes[2])\n",
    "axes[2].axvline(3000)\n",
    "axes[2].set_yscale('log')\n",
    "axes[3]= plt.scatter(adata.obs.total_counts, adata.obs.n_genes_by_counts, cmap='viridis' ,c=adata.obs['pct_counts_mt'],s=1)\n",
    "plt.show()"
   ]
  },
  {
   "cell_type": "markdown",
   "id": "fbb8d2b3-99b9-45e0-9dbe-df92d850574d",
   "metadata": {},
   "source": [
    "### Basic filtering \n",
    "\n",
    "filter based on the number of genes found in a cell and the number of cells genes are found in"
   ]
  },
  {
   "cell_type": "code",
   "execution_count": null,
   "id": "41b45750-71c7-4f89-8ab1-d6b4990bf977",
   "metadata": {},
   "outputs": [],
   "source": [
    "sc.pp.filter_cells(adata, min_genes=200)\n",
    "sc.pp.filter_genes(adata, min_cells=3)"
   ]
  },
  {
   "cell_type": "markdown",
   "id": "da2ca894-1244-4ea0-887e-5c47fdb3d3ef",
   "metadata": {},
   "source": [
    "Mitochondrial filtering by slicing the AnnData object\n",
    "\n",
    "If you were running doublet detection tools like scrublet, you would run them before removing cells based on mitochondrial QC metrics"
   ]
  },
  {
   "cell_type": "code",
   "execution_count": null,
   "id": "124a7255-eaa7-4cf7-ae04-f6226c7302a9",
   "metadata": {},
   "outputs": [],
   "source": [
    "adata = adata[adata.obs.pct_counts_mt < 5, :] # 5% is very low, often times will use a higher cutoff ~10-20% but this depends on data quality\n",
    "adata"
   ]
  },
  {
   "cell_type": "markdown",
   "id": "3fdce613-6d2f-418d-a7be-3613a6278d8e",
   "metadata": {},
   "source": [
    "### Total-count normalize, logarithmize, identify highly-variable genes and scale the data"
   ]
  },
  {
   "cell_type": "code",
   "execution_count": null,
   "id": "67afd9f9-1ea6-466e-a3ef-cf577791d30d",
   "metadata": {},
   "outputs": [],
   "source": [
    "adata.layers['counts']= adata.X.copy() #save a copy of the raw counts in a layer\n",
    "sc.pp.normalize_total(adata, target_sum=1e4)\n",
    "sc.pp.log1p(adata)\n",
    "adata.raw = adata.copy() #save the log-norm counts before scaling\n",
    "\n",
    "sc.pp.highly_variable_genes(adata, min_mean=0.0125, max_mean=3, min_disp=0.5)\n",
    "sc.pp.scale(adata, max_value=10)"
   ]
  },
  {
   "cell_type": "markdown",
   "id": "fd595bbe-5fcf-44f5-a96b-d60fa1689990",
   "metadata": {},
   "source": [
    "## PCA, computing the neighborhood graph, and clustering"
   ]
  },
  {
   "cell_type": "code",
   "execution_count": null,
   "id": "6e2d7ffe-4a50-474d-912c-f20caa7fd342",
   "metadata": {},
   "outputs": [],
   "source": [
    "sc.pp.pca(adata, svd_solver='arpack', use_highly_variable=True)\n",
    "sc.pl.pca_variance_ratio(adata, log=True)"
   ]
  },
  {
   "cell_type": "markdown",
   "id": "4319d3fd-7d13-453c-84ec-5808f46d413a",
   "metadata": {},
   "source": [
    "What we see above is the elbow plot: we need to choose how many PCs to use\n",
    "\n",
    "* the general rule is you want to include anything to the left of the elbow\n",
    "* usually choose a PC the is just after the elbow\n",
    "* if you choose too many PCs your UMAP will have too many very tiny clusters where you can't see any informative separation\n",
    "\n",
    "An example of a UMAP after choosing too many PCs:  \n",
    "![example_too_many_pcs](too_many_pcs.png)"
   ]
  },
  {
   "cell_type": "code",
   "execution_count": null,
   "id": "e1dd2db4-2089-4144-ac86-723ba172a20b",
   "metadata": {},
   "outputs": [],
   "source": [
    "sc.pp.neighbors(adata, n_neighbors=10, n_pcs=8)"
   ]
  },
  {
   "cell_type": "code",
   "execution_count": null,
   "id": "4da453bf-b8fe-44e1-9883-b2e884e0b76a",
   "metadata": {},
   "outputs": [],
   "source": [
    "sc.tl.umap(adata)"
   ]
  },
  {
   "cell_type": "code",
   "execution_count": null,
   "id": "db60b299-8c37-4bb2-b1a8-904a48b7939b",
   "metadata": {},
   "outputs": [],
   "source": [
    "sc.pl.umap(adata, color=['CST3', 'NKG7', 'PPBP'])"
   ]
  },
  {
   "cell_type": "code",
   "execution_count": null,
   "id": "24b49819-1d7a-414d-8b16-3dd1556d0c60",
   "metadata": {},
   "outputs": [],
   "source": [
    "sc.tl.louvain(adata, resolution=.6) #lower resolution -> less clusters"
   ]
  },
  {
   "cell_type": "code",
   "execution_count": null,
   "id": "7bd381dc-0f00-4c21-ae79-b87a78bb436c",
   "metadata": {},
   "outputs": [],
   "source": [
    "sc.pl.umap(adata, color=['louvain', 'CST3', 'NKG7'])"
   ]
  },
  {
   "cell_type": "markdown",
   "id": "e9a674cc-d92b-40ef-bef4-a28ad6be6023",
   "metadata": {},
   "source": [
    "### changing UMAP colors"
   ]
  },
  {
   "cell_type": "code",
   "execution_count": null,
   "id": "c94abeeb-a659-4732-a29c-ed1cd77a2209",
   "metadata": {},
   "outputs": [],
   "source": [
    "adata"
   ]
  },
  {
   "cell_type": "code",
   "execution_count": null,
   "id": "49abe5db-80bd-4bc3-89d7-e3e223ab747b",
   "metadata": {},
   "outputs": [],
   "source": [
    "adata.uns['louvain_colors']"
   ]
  },
  {
   "cell_type": "code",
   "execution_count": null,
   "id": "a21bf38c-7967-4b3d-9617-9d797e6d140b",
   "metadata": {},
   "outputs": [],
   "source": [
    "adata.uns['louvain_colors']= ['r','b','k','c','y','lightgrey','g','m','tab:orange','tab:brown']\n",
    "sc.pl.umap(adata, color=['louvain'])"
   ]
  },
  {
   "cell_type": "markdown",
   "id": "a0d48e44-df32-4447-a4fb-d18daa8d6990",
   "metadata": {},
   "source": [
    "### Finding marker genes"
   ]
  },
  {
   "cell_type": "markdown",
   "id": "4e867168-fa00-473c-986e-43a9a27910fc",
   "metadata": {},
   "source": [
    "Find marker genes that separate each louvain cluster vs the rest of the cells"
   ]
  },
  {
   "cell_type": "code",
   "execution_count": null,
   "id": "296ff9f1-f10d-4bf8-ae0a-1ce206592bb4",
   "metadata": {},
   "outputs": [],
   "source": [
    "sc.tl.rank_genes_groups(adata, 'louvain', method='t-test')\n",
    "sc.pl.rank_genes_groups(adata, n_genes=25, sharey=False)"
   ]
  },
  {
   "cell_type": "code",
   "execution_count": null,
   "id": "5be26181-4821-4712-89aa-0462022b96aa",
   "metadata": {},
   "outputs": [],
   "source": [
    "adata.uns['rank_genes_groups']"
   ]
  },
  {
   "cell_type": "markdown",
   "id": "a2870a60-4cc3-4d22-951b-189e04d774f5",
   "metadata": {},
   "source": [
    "Compare a cluster vs another cluster rather than all other cells:\n",
    "\n",
    "example: have two tumor clusters and want to see why there is separation between the two of them"
   ]
  },
  {
   "cell_type": "code",
   "execution_count": null,
   "id": "b9f4e90d-ac2b-4eab-961f-85457facb634",
   "metadata": {},
   "outputs": [],
   "source": [
    "sc.tl.rank_genes_groups(adata, 'louvain', groups=['0'], reference='5', method='wilcoxon')\n",
    "sc.pl.rank_genes_groups(adata, groups=['0'], n_genes=20)"
   ]
  },
  {
   "cell_type": "code",
   "execution_count": null,
   "id": "d8c9f63f-94cb-4e4c-a3cc-7bcb82d6a203",
   "metadata": {},
   "outputs": [],
   "source": [
    "#more detailed view for a certain group\n",
    "sc.pl.rank_genes_groups_violin(adata, groups='0', n_genes=8)"
   ]
  },
  {
   "cell_type": "code",
   "execution_count": null,
   "id": "3345b40f-9690-46a2-8e22-6bb51c54c2c1",
   "metadata": {},
   "outputs": [],
   "source": [
    "sc.pl.violin(adata, ['CST3', 'NKG7', 'PPBP'], groupby='louvain')"
   ]
  },
  {
   "cell_type": "code",
   "execution_count": null,
   "id": "30b69df4-d3aa-4f2d-a450-fdcdaf2d0dd2",
   "metadata": {},
   "outputs": [],
   "source": [
    "sc.pl.umap(adata, color= ['CST3', 'FCER1A','MS4A7','NKG7','GNLY','CD8A','MS4A1','LYZ', 'IL7R', 'CD14','PPBP','louvain'], ncols=5)"
   ]
  },
  {
   "cell_type": "code",
   "execution_count": null,
   "id": "f15c6799-734a-45c2-bc1a-910592a9824d",
   "metadata": {},
   "outputs": [],
   "source": [
    "sc.pl.violin(adata, ['CST3', 'FCER1A','MS4A7','NKG7','GNLY','CD8A','MS4A1','LYZ', 'CD14','IL7R','PPBP'], groupby='louvain')"
   ]
  },
  {
   "cell_type": "markdown",
   "id": "4d852786-7df7-4396-8dfd-df2fecb8b1b2",
   "metadata": {},
   "source": [
    "                                                            Based on expression patterns:\n",
    "\n",
    "| Louvain Group | Markers     | Cell Type\n",
    "| ------------- | ----------- | ----------- \n",
    "| 0             | IL7R       | CD4 T cells\n",
    "| 1             | IL7R       | CD4 T cells\n",
    "| 2             | CD14, LYZ        | CD14+ Monocytes\n",
    "| 3             | MS4A1   | B cells\n",
    "| 4             | CD8A | CD8 T cells\n",
    "| 5             | FCGR3A, MS4A7 | FCGR3A+ Monocytes\n",
    "| 6             | GNLY, NKG7 | NK cells\n",
    "| 7             | IL7R       | CD4 T cells\n",
    "| 8             | FCER1A, CST3 | Dendritic Cells\n",
    "| 9             | PPBP | Megakaryocytes\n",
    "\n"
   ]
  },
  {
   "cell_type": "code",
   "execution_count": null,
   "id": "3dd93409-2c9a-44de-9a86-637e3fbe2ce5",
   "metadata": {},
   "outputs": [],
   "source": [
    "cell_type_annotations = {'CD4 T': [0,1,7], 'CD14 Monocytes': [2], 'B': [3], 'CD8 T': [4], 'NK': [6], 'FCGR3A Monocytes': [5], 'Dendritic': [8], 'Megakaryocytes': [9]}\n",
    "\n",
    "cluster_annotations = {}\n",
    "for k,v in cell_type_annotations.items():\n",
    "    for clus in v:\n",
    "        cluster_annotations[clus]= k\n",
    "cluster_annotations"
   ]
  },
  {
   "cell_type": "code",
   "execution_count": null,
   "id": "29bedf65-bda2-403b-a336-b2a58239e725",
   "metadata": {},
   "outputs": [],
   "source": [
    "set(adata.obs.louvain)"
   ]
  },
  {
   "cell_type": "code",
   "execution_count": null,
   "id": "305ac30e-3fdc-48f7-8149-fa66e10e814f",
   "metadata": {},
   "outputs": [],
   "source": [
    "adata.obs['cell_type']= adata.obs.louvain.apply(lambda x: cluster_annotations[int(x)])\n",
    "adata.obs['cell_type']"
   ]
  },
  {
   "cell_type": "code",
   "execution_count": null,
   "id": "c1c13f6b-9ac1-42b9-be73-9c26bc766800",
   "metadata": {},
   "outputs": [],
   "source": [
    "sc.pl.umap(adata, color='cell_type', legend_loc='on data', title='', frameon=False, legend_fontsize=10)\n"
   ]
  },
  {
   "cell_type": "code",
   "execution_count": null,
   "id": "2fa3073a-9233-48c2-9a66-aa6c8478cfe3",
   "metadata": {},
   "outputs": [],
   "source": [
    "marker_genes = {     'NK': ['GNLY', 'NKG7'],\n",
    "                     'CD8 T-cell': ['CD8A'],\n",
    "                     'CD4 T-cell': ['IL7R'],\n",
    "                     'B-cell': ['MS4A1'],\n",
    "                     'CD14+ Monocytes': ['CD14', 'LYZ'],\n",
    "                     'FCGR3A+ Monocytes': ['FCGR3A','MS4A7'],\n",
    "                     'Megakaryocytes': ['PPBP'],\n",
    "                     'Dendritic': ['FCER1A','CST3']}\n",
    "\n",
    "sc.pl.dotplot(adata, marker_genes, groupby='louvain')"
   ]
  },
  {
   "cell_type": "code",
   "execution_count": null,
   "id": "30a49473-f767-4a5e-becb-85e554215a2e",
   "metadata": {},
   "outputs": [],
   "source": [
    "sc.pl.stacked_violin(adata, marker_genes, groupby='louvain', rotation=90)"
   ]
  },
  {
   "cell_type": "markdown",
   "id": "ed6b7a07-db17-4058-9084-2cc78cf123da",
   "metadata": {},
   "source": [
    "## Write the anndata object to a h5 file so that you can save, reload your progress and keep working later"
   ]
  },
  {
   "cell_type": "code",
   "execution_count": null,
   "id": "f565e452-8f55-4979-bcdb-20fc1918476f",
   "metadata": {},
   "outputs": [],
   "source": [
    "adata.write_h5ad('scanpy_tutorial.h5ad')"
   ]
  },
  {
   "cell_type": "markdown",
   "id": "f452fd88-c032-4e7d-a4dc-3e8f1edc3c70",
   "metadata": {},
   "source": [
    "## if you need to grab the normalized counts and convert them to a dataframe"
   ]
  },
  {
   "cell_type": "code",
   "execution_count": null,
   "id": "2bf36aaf-3114-44f2-9df9-648ac1773904",
   "metadata": {},
   "outputs": [],
   "source": [
    "log_norm_counts= pd.DataFrame.sparse.from_spmatrix(adata.raw.X)\n",
    "log_norm_counts.columns= list(adata.var_names)\n",
    "log_norm_counts.index= list(adata.obs_names)"
   ]
  }
 ],
 "metadata": {
  "kernelspec": {
   "display_name": "Python 3",
   "language": "python",
   "name": "python3"
  },
  "language_info": {
   "codemirror_mode": {
    "name": "ipython",
    "version": 3
   },
   "file_extension": ".py",
   "mimetype": "text/x-python",
   "name": "python",
   "nbconvert_exporter": "python",
   "pygments_lexer": "ipython3",
   "version": "3.8.10"
  }
 },
 "nbformat": 4,
 "nbformat_minor": 5
}
